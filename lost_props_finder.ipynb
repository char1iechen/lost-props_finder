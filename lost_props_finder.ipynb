{
 "cells": [
  {
   "cell_type": "code",
   "execution_count": 1,
   "metadata": {},
   "outputs": [
    {
     "name": "stdout",
     "output_type": "stream",
     "text": [
      "Program started!\n",
      "Connecting railway website...\n",
      "Total: 252 pages\n",
      "Fetching...\n"
     ]
    },
    {
     "name": "stderr",
     "output_type": "stream",
     "text": [
      " 54%|███████████████████████████████████████████▍                                    | 137/252 [02:36<01:31,  1.26it/s]"
     ]
    },
    {
     "data": {
      "image/png": "[encoded data removed]",
      "text/plain": [
       "<PIL.PngImagePlugin.PngImageFile image mode=RGBA size=215x80 at 0x1AF0B7DD0B8>"
      ]
     },
     "metadata": {},
     "output_type": "display_data"
    },
    {
     "name": "stdout",
     "output_type": "stream",
     "text": [
      "Solve the captcha to continue:gRGNK7\n",
      "Success~! Continue fetching...\n"
     ]
    },
    {
     "name": "stderr",
     "output_type": "stream",
     "text": [
      "100%|████████████████████████████████████████████████████████████████████████████████| 252/252 [05:46<00:00,  1.20s/it]\n"
     ]
    },
    {
     "name": "stdout",
     "output_type": "stream",
     "text": [
      "Writing data to file...\n",
      "Done!\n",
      "Connecting mrt website...\n",
      "Start fetching...\n"
     ]
    },
    {
     "name": "stderr",
     "output_type": "stream",
     "text": [
      "100%|██████████████████████████████████████████████████████████████████████████████████| 48/48 [00:08<00:00,  4.41it/s]\n"
     ]
    },
    {
     "name": "stdout",
     "output_type": "stream",
     "text": [
      "Writing to file...\n",
      "Done!\n"
     ]
    }
   ],
   "source": [
    "from selenium import webdriver\n",
    "from selenium.webdriver.support.ui import Select\n",
    "from tqdm import tqdm\n",
    "from time import sleep,ctime\n",
    "from PIL import Image\n",
    "from IPython.display import display\n",
    "import pandas as pd\n",
    "import csv, requests, re, os\n",
    "\n",
    "headers = {'user-agent': 'Mozilla/5.0 (Macintosh Intel Mac OS X 10_13_4) AppleWebKit/537.36 (KHTML, like Gecko) Chrome/66.0.3359.181 Safari/537.36'}\n",
    "driver_path = 'C:\\\\driver\\\\chromedriver.exe'\n",
    "\n",
    "def connector():\n",
    "    conn = MySQLdb.connect(host='localhost',user='test',passwd='test',db='lost_props')\n",
    "    cursor = conn.cursor()\n",
    "    return conn, cursor\n",
    "\n",
    "def railway_fetcher():\n",
    "    list_items = []\n",
    "    lost_items = browser.find_elements_by_xpath('//tr[@class=\"gray01 text_12_1pt form01\" or @class=\"gray01 text_12_1pt form02\"]')\n",
    "    for item in lost_items: #將資料規格化\n",
    "        item = item.text.split(' ')\n",
    "        for i in range(len(item)-4):\n",
    "            if item[i] == '' and item[i+1] == '':\n",
    "                item.pop(i)\n",
    "        if item[-1:] == ['']:\n",
    "            item.pop(-1)\n",
    "        if len(item) > 9:\n",
    "            blank = ' '\n",
    "            discription = item[5:-3]\n",
    "            item[5] = blank.join(discription)\n",
    "            item = item[:6] + item[-3:]\n",
    "        list_items.append(item)\n",
    "    return list_items\n",
    "\n",
    "def captcha_solver():\n",
    "    browser.get('http://163.29.186.138/tw/lost_List.aspx')\n",
    "    browser.save_screenshot('srcsht.png')\n",
    "    captcha = browser.find_element_by_xpath('//img[@alt=\"Red dot\"]')\n",
    "    left = captcha.location['x']\n",
    "    right = captcha.location['x'] + captcha.size['width']\n",
    "    top = captcha.location['y']\n",
    "    bottom = captcha.location['y'] + captcha.size['height']\n",
    "    img = Image.open('srcsht.png')\n",
    "    img = img.crop((left, top, right, bottom))\n",
    "    img.save('captcha.png', 'png')\n",
    "    display(Image.open('captcha.png'))\n",
    "    input_box = browser.find_element_by_xpath('//input[@id=\"ans\"]')\n",
    "    submit_button = browser.find_element_by_xpath('//button[@id=\"jar\"]')\n",
    "    solution = input('Solve the captcha to continue:')\n",
    "    input_box.send_keys(solution)\n",
    "    submit_button.click()\n",
    "    print('Success~! Continue fetching...')\n",
    "        \n",
    "\n",
    "def railway():\n",
    "    print('Connecting railway website...')\n",
    "    browser.get('http://163.29.186.138/tw/lost_List.aspx') #打開台鐵管理局\n",
    "\n",
    "    total_data = []\n",
    "    page_info = browser.find_element_by_xpath('//span[@id=\"PageInfo\"]')\n",
    "    pages = int(re.findall(r'(?<=\\/ )\\d*(?= 頁)', page_info.text)[0]) #找到台鐵資料總頁數\n",
    "    print('Total: %s pages'%pages)\n",
    "\n",
    "    print('Fetching...')\n",
    "    for page in tqdm(range(1, pages+1)):\n",
    "        if page == 1:\n",
    "            total_data.extend(railway_fetcher())\n",
    "        else:\n",
    "            page = str(page)\n",
    "            try:\n",
    "                select = Select(browser.find_element_by_name('PageList')) #選取換頁選單\n",
    "            except:\n",
    "                sleep(3)\n",
    "                browser.get('http://163.29.186.138/tw/lost_List.aspx')\n",
    "                captcha_solver() #處理防機器人機制出現\n",
    "                select = Select(browser.find_element_by_name('PageList'))\n",
    "            select.select_by_value(page)\n",
    "            total_data.extend(railway_fetcher())\n",
    "\n",
    "    print('Writing data to file...')\n",
    "    with open('railway_data.csv', 'w', encoding='utf-8-sig', newline='') as csvfile:\n",
    "        writer= csv.writer(csvfile)\n",
    "        writer.writerow(['index','paper_index','date','found_location','item_type','item_detail','keep_agency','anounce_agency','contact'])\n",
    "        writer.writerows(total_data)\n",
    "    total_writer.writerows(standard(total_data))\n",
    "    browser.close()\n",
    "    print(\"Done!\")\n",
    "\n",
    "def mrt():\n",
    "    print('Connecting mrt website...')\n",
    "    url = 'https://web.metro.taipei/c/lf2016result.asp?targetAction=item&targetPlace=H&targetItem='\n",
    "\n",
    "    total_data = []\n",
    "    print('Start fetching...')\n",
    "    item_types = tqdm(['紙袋','背包','手提袋','文件袋','行李箱','紙箱','現金','手錶','皮夾','照相機','行動電話','金融卡','信用卡','存摺','票據','證件','首飾','筆電平板','其它個資3C產品','印章','車票夾','眼鏡','電子票證','鑰匙','零錢包','鉛筆盒','記事本','電話卡','電話本','照片','書','衣物','帽子','鞋子','圍巾','手套','絲巾','領帶','腰帶','安全帽','長傘','摺傘','水壺','保溫瓶','便當盒','玩具','玩偶','他類'])\n",
    "    for keyword in item_types:\n",
    "        conn = requests.get('https://web.metro.taipei/c/lf2016result.asp?targetAction=item&targetPlace=H&targetItem=%s'%keyword, headers=headers)\n",
    "        conn.encoding = 'utf-8'\n",
    "        website = conn.text\n",
    "        try:\n",
    "            df = pd.read_html(website)[0]\n",
    "            df = df.where((pd.notnull(df)), '')\n",
    "            item_list = df.values.tolist()\n",
    "            total_data.extend(item_list)\n",
    "        except ValueError:\n",
    "            pass\n",
    "    print('Writing to file...')\n",
    "    with open('mrt_data.csv', 'w', encoding='utf-8-sig', newline='') as csvfile:\n",
    "        writer= csv.writer(csvfile)\n",
    "        writer.writerow(['date','item_name', 'found_location', 'index', 'keep_agency'])\n",
    "        writer.writerows(total_data)\n",
    "    total_writer.writerows(standard(total_data))\n",
    "    print('Done!')\n",
    "\n",
    "def standard(data):\n",
    "    data_standarized = []\n",
    "    if len(data[0]) == 9:\n",
    "        for item in data:\n",
    "            item_standarized = [item[2],'railway',item[0]]\n",
    "            item_standarized.extend(item[3:])\n",
    "            data_standarized.append(item_standarized)\n",
    "        return data_standarized\n",
    "    elif len(data[0]) ==5:\n",
    "        for item in data:\n",
    "            item_standarized = [item[0], 'mrt', item[3], item[2], item[1], item[1], item[4], '', '']\n",
    "            data_standarized.append(item_standarized)\n",
    "        return data_standarized\n",
    "            \n",
    "if __name__ == '__main__':\n",
    "    print('Program started!')\n",
    "    browser = webdriver.Chrome(driver_path)\n",
    "    total_records = open('total_records.csv','w', encoding='utf_8_sig', newline='')\n",
    "    total_writer = csv.writer(total_records)\n",
    "    total_writer.writerow(['DATE','SOURCE','ORIGIN_INDEX','FOUND_LOCATION','ITEM_TYPE','ITEM_DETAIL','KEEP_AGENCY','ANNOUCE_AGENCY','CONTACT'])\n",
    "    railway()\n",
    "    mrt()\n",
    "    total_records.close()"
   ]
  }
 ],
 "metadata": {
  "kernelspec": {
   "display_name": "Python 3",
   "language": "python",
   "name": "python3"
  },
  "language_info": {
   "codemirror_mode": {
    "name": "ipython",
    "version": 3
   },
   "file_extension": ".py",
   "mimetype": "text/x-python",
   "name": "python",
   "nbconvert_exporter": "python",
   "pygments_lexer": "ipython3",
   "version": "3.7.3"
  }
 },
 "nbformat": 4,
 "nbformat_minor": 2
}
